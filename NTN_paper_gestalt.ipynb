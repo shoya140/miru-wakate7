{
 "metadata": {
  "name": "",
  "signature": "sha256:819b195dc9af24ac785dd73fe6094385c15cff07fa77993bdec0896dbf9dee74"
 },
 "nbformat": 3,
 "nbformat_minor": 0,
 "worksheets": [
  {
   "cells": [
    {
     "cell_type": "markdown",
     "metadata": {},
     "source": [
      "# NTN-Paper Gestalt\n",
      "\n",
      "Paper gestalt [von Bearnensquash, 10] is a well known theory to understand acceptable papers. However, implementation of this thery is non-trivial mainly due to the heavy computational cost when assigning dense features to a pretrained codebook. To this end, we propose a novel implementation of the paper gestalt named <i>NTN-Paper Gestalt</i>. The proposed method utilizes the neighbor-to-neighbor search scheme [Inoue+, 13] for fast association of features, which enables us to rapidly predict acceptability of papers."
     ]
    },
    {
     "cell_type": "markdown",
     "metadata": {},
     "source": [
      "### Codes"
     ]
    },
    {
     "cell_type": "code",
     "collapsed": false,
     "input": [
      "import commands, glob, cv2, re, pdb\n",
      "from skimage.feature import hog\n",
      "from multiprocessing import Pool\n",
      "from sklearn.cluster import KMeans\n",
      "from sklearn.preprocessing import StandardScaler\n",
      "%matplotlib inline\n",
      "\n",
      "# parameters\n",
      "delta = -0.1\n",
      "c_size = 30\n",
      "\n",
      "\n",
      "def ProcessPDF(infile):\n",
      "    '''\n",
      "    Converting pdf into image sequences\n",
      "    '''\n",
      "    dirname = re.sub('.pdf','',infile)\n",
      "    commands.getoutput('mkdir %s'%dirname)\n",
      "    commands.getoutput('convert %s %s/_test.jpg'%(infile, dirname))\n",
      "\n",
      "    \n",
      "def LoadImg(infile, maxpages=1, verbose=False):\n",
      "    '''\n",
      "    Extracting the first [maxpages] pages of a paper\n",
      "    '''\n",
      "    dirname = re.sub('.pdf','',infile)\n",
      "    img = []\n",
      "    files = glob.glob('%s/*.jpg'%dirname)\n",
      "    if(files==[]):\n",
      "        return np.random.rand(618, 800, 3).astype('float32')\n",
      "    if(len(files)>maxpages):\n",
      "        files = [files[t] for t in range(maxpages)]\n",
      "    for f in files:\n",
      "        img.append(cv2.imread(f))\n",
      "    for f in range(len(files),maxpages):\n",
      "        img.append(np.zeros(img[0].shape))\n",
      "    img = np.hstack(img).astype('float32')\n",
      "    \n",
      "    if(verbose):\n",
      "        plt.imshow(img[:,:,[2,1,0]])\n",
      "    \n",
      "    return img\n",
      "\n",
      "\n",
      "def ExtractHog(img, verbose=False):\n",
      "    '''\n",
      "    Extracing histogram of oriented gradient features\n",
      "    '''\n",
      "    gimg = cv2.resize(cv2.cvtColor(img, cv2.cv.CV_BGR2GRAY), (618,800))\n",
      "    fd, hog_img = hog(gimg, orientations=9, pixels_per_cell=(32, 32), cells_per_block=(1, 1), visualise=True)\n",
      "    \n",
      "    if(verbose):\n",
      "        plt.imshow(hog_img)\n",
      "        \n",
      "    return fd\n",
      "\n",
      "    \n",
      "\n",
      "def LearnCodebook(feat, n_clusters):\n",
      "    '''\n",
      "    Learning a codebook from data\n",
      "    '''\n",
      "    km = KMeans(n_clusters=n_clusters)\n",
      "    km.fit(np.vstack([x.reshape([19*25, 9]) for x in feat]))\n",
      "    \n",
      "    return km\n",
      "\n",
      "def PrepareData(pos_feat, neg_feat):\n",
      "    '''\n",
      "    Summarizing positive and negative features into a data matrix\n",
      "    '''\n",
      "    feat = np.concatenate((pos_feat, neg_feat))\n",
      "    feat = [x.reshape((19, 25, 9)) for x in feat]\n",
      "    label = np.concatenate((np.ones(len(pos_feat)), np.ones(len(neg_feat))*-1))\n",
      "    \n",
      "    return [feat, label]\n",
      "\n",
      "import random\n",
      "\n",
      "    \n",
      "def CalculateBOF(feat, mu, type=1):\n",
      "    '''\n",
      "    Calculating bag of features using NTN\n",
      "    '''\n",
      "    X = feat.copy()\n",
      "    i=0\n",
      "    j=0\n",
      "    H,W=X.shape[:2]\n",
      "    ptlist = []\n",
      "    ptlist.append([0,0])\n",
      "    while(np.sum(np.isinf(X[:,:,0].flatten()))<W*H-1):\n",
      "        #print X[:,:,0]\n",
      "        i,j=B(X, i,j,W,H)\n",
      "        ptlist.append([i,j])\n",
      "    feat = np.vstack([feat[v[0], v[1],:].flatten() for v in ptlist])\n",
      "    if(type==1):\n",
      "        # using NTN\n",
      "        v = NTN(feat,mu)\n",
      "    else:\n",
      "        # naive search\n",
      "        v = notNTN(feat,mu)\n",
      "    \n",
      "    return np.histogram(v,range(mu.shape[0]+1), normed=True)[0], ptlist\n",
      "\n",
      "\n",
      "def NTN(X, mu):\n",
      "    '''\n",
      "    NTN search proposed in [Inoue+,13]\n",
      "    '''\n",
      "    n_clst = mu.shape[0]\n",
      "    n_samples = X.shape[0]\n",
      "    v = np.zeros(n_samples)\n",
      "    d_prev = np.sum((mu - X[0,:])**2,1)**.5\n",
      "    v[0] = np.argmin(d_prev)\n",
      "    i=0\n",
      "    delta_ij = 0\n",
      "    for j in range(1,n_samples):\n",
      "        delta_ij = delta_ij + np.sum((X[j,:]-X[j-1,:])**2)**.5\n",
      "        k_star = np.int(v[j-1])\n",
      "        d_jk_star = np.sum((X[j,:] - mu[k_star,:])**2)**.5\n",
      "        d_jk = np.ones(n_clst)* d_jk_star\n",
      "        for k in range(n_clst):\n",
      "            if(k!=k_star):\n",
      "                lb_d = d_prev[k] - delta * delta_ij\n",
      "                if(lb_d<d_jk_star):\n",
      "                    d_jk[k] = np.sum((X[j,:] - mu[k,:])**2)**.5\n",
      "                    #d_jk[k] = norm(X[j,:] - mu[k,:])\n",
      "                    i=j\n",
      "        v[j] = np.int(np.argmin(d_jk))\n",
      "        d_prev = d_jk\n",
      "    return v\n",
      "\n",
      "\n",
      "def notNTN(X, mu):  \n",
      "    '''\n",
      "    Very naive search \n",
      "    '''\n",
      "    n_samples = X.shape[0]\n",
      "    n_clst = mu.shape[0]    \n",
      "    v = np.zeros(n_samples)\n",
      "    for j in range(n_samples):\n",
      "        d = np.zeros(n_clst)\n",
      "        for k in range(n_clst):\n",
      "            d[k] = np.sum((X[j,:]-mu[k,:])**2)**.5\n",
      "        v[j] = np.argmin(d)\n",
      "    return v\n",
      "\n",
      "\n",
      "def B(X, i, j, W, H):\n",
      "    '''\n",
      "    Calculating \\Delta_ij\n",
      "    '''\n",
      "    nextpts = np.array([[-1,0], [+1,0], [0, -1], [0,+1]])\n",
      "    f0 = X[i,j,:].copy()\n",
      "    X[i,j,:]=np.inf\n",
      "    f1 = np.vstack([X[np.max((0,i-1)),j,:], X[np.min((i+1, H-1)),j,:], X[i,np.max((0,j-1)),:], X[i,np.min((j+1, W-1)),:]])\n",
      "    d = np.sum((f1- f0)**2, 1)**.5\n",
      "    if(np.all(np.isinf(d))):\n",
      "        return np.argwhere((~np.isinf(X[:,:,0])))[0]\n",
      "    else:\n",
      "        idx = np.argmin(d)\n",
      "        return np.array((i,j))+ nextpts[idx]\n",
      "    \n",
      "    \n",
      "### other tools\n",
      "\n",
      "def SpecifyDir(dirname, b, e):\n",
      "    '''\n",
      "    Listing up files in a directory\n",
      "    '''\n",
      "    filelist=glob.glob('%s/*.pdf'%dirname)\n",
      "    filelist = [filelist[t] for t in range(b, e)]\n",
      "    return filelist\n"
     ],
     "language": "python",
     "metadata": {},
     "outputs": [],
     "prompt_number": 76
    },
    {
     "cell_type": "markdown",
     "metadata": {},
     "source": [
      "#### Batch: extracting HOG"
     ]
    },
    {
     "cell_type": "code",
     "collapsed": false,
     "input": [
      "pl = Pool(24)\n",
      "%time img0 = pl.map(LoadImg, SpecifyDir('main_papers/', 0, 50))\n",
      "%time pos_feat = map(ExtractHog, img0)\n",
      "%time img1 = pl.map(LoadImg, SpecifyDir('ws_papers/', 0, 50))\n",
      "%time neg_feat = map(ExtractHog, img1)\n",
      "pl.terminate()"
     ],
     "language": "python",
     "metadata": {},
     "outputs": [
      {
       "output_type": "stream",
       "stream": "stdout",
       "text": [
        "CPU times: user 210 ms, sys: 260 ms, total: 470 ms\n",
        "Wall time: 1.65 s\n",
        "CPU times: user 1min 6s, sys: 4.22 s, total: 1min 10s"
       ]
      },
      {
       "output_type": "stream",
       "stream": "stdout",
       "text": [
        "\n",
        "Wall time: 1min 8s\n",
        "CPU times: user 195 ms, sys: 257 ms, total: 452 ms"
       ]
      },
      {
       "output_type": "stream",
       "stream": "stdout",
       "text": [
        "\n",
        "Wall time: 1.47 s\n",
        "CPU times: user 1min 6s, sys: 4.23 s, total: 1min 10s"
       ]
      },
      {
       "output_type": "stream",
       "stream": "stdout",
       "text": [
        "\n",
        "Wall time: 1min 8s\n"
       ]
      }
     ],
     "prompt_number": 3
    },
    {
     "cell_type": "markdown",
     "metadata": {},
     "source": [
      "#### Batch: training a codebook"
     ]
    },
    {
     "cell_type": "code",
     "collapsed": false,
     "input": [
      "# HOG-BOF\n",
      "feat, label = PrepareData(pos_feat, neg_feat)\n",
      "%time km = LearnCodebook([x.copy() for x in feat], c_size)\n",
      "mu = km.cluster_centers_\n"
     ],
     "language": "python",
     "metadata": {},
     "outputs": [
      {
       "output_type": "stream",
       "stream": "stdout",
       "text": [
        "CPU times: user 27.8 s, sys: 1.76 s, total: 29.6 s\n",
        "Wall time: 29.6 s\n"
       ]
      }
     ],
     "prompt_number": 4
    },
    {
     "cell_type": "markdown",
     "metadata": {},
     "source": [
      "### Experiment 1: NTN-Paper gestalt"
     ]
    },
    {
     "cell_type": "code",
     "collapsed": false,
     "input": [
      "print 'NTN-search'\n",
      "%time bof = np.vstack([CalculateBOF(x.copy(), mu, type=1)[0] for x in feat])\n",
      "ss = StandardScaler()\n",
      "bof1 = ss.fit_transform(bof)"
     ],
     "language": "python",
     "metadata": {},
     "outputs": [
      {
       "output_type": "stream",
       "stream": "stdout",
       "text": [
        "NTN-search\n",
        "CPU times: user 24.4 s, sys: 24.8 ms, total: 24.5 s"
       ]
      },
      {
       "output_type": "stream",
       "stream": "stdout",
       "text": [
        "\n",
        "Wall time: 24.5 s\n"
       ]
      }
     ],
     "prompt_number": 39
    },
    {
     "cell_type": "code",
     "collapsed": false,
     "input": [
      "from sklearn import lda\n",
      "from sklearn.cross_validation import train_test_split, KFold\n",
      "from sklearn.metrics import confusion_matrix\n",
      "\n",
      "bof=bof1\n",
      "vset = KFold(len(label), 100)\n",
      "clf = lda.LDA()\n",
      "pred = []\n",
      "for tr, ts in vset:\n",
      "    clf.fit(bof[tr,:], label[tr])\n",
      "    pred.append(clf.predict(bof[ts,:]))\n",
      "pred = np.concatenate(pred)\n",
      "cm = confusion_matrix(label, pred, labels=[1,-1])\n",
      "print 'accuracy: %0.2f'%((cm[0,0]+cm[1,1])*1./np.sum(cm))"
     ],
     "language": "python",
     "metadata": {},
     "outputs": [
      {
       "output_type": "stream",
       "stream": "stdout",
       "text": [
        "accuracy: 0.65\n"
       ]
      }
     ],
     "prompt_number": 69
    },
    {
     "cell_type": "markdown",
     "metadata": {},
     "source": [
      "### Experiment 2: Basic Paper gestalt"
     ]
    },
    {
     "cell_type": "code",
     "collapsed": false,
     "input": [
      "print 'exact-search'\n",
      "%time bof = np.vstack([CalculateBOF(x.copy(), mu, type=2)[0] for x in feat])\n",
      "ss = StandardScaler()\n",
      "bof2 = ss.fit_transform(bof)"
     ],
     "language": "python",
     "metadata": {},
     "outputs": [
      {
       "output_type": "stream",
       "stream": "stdout",
       "text": [
        "exact-search\n",
        "CPU times: user 59.9 s, sys: 90.8 ms, total: 60 s"
       ]
      },
      {
       "output_type": "stream",
       "stream": "stdout",
       "text": [
        "\n",
        "Wall time: 59.9 s\n"
       ]
      }
     ],
     "prompt_number": 40
    },
    {
     "cell_type": "code",
     "collapsed": false,
     "input": [
      "from sklearn import lda\n",
      "from sklearn.cross_validation import train_test_split, KFold\n",
      "from sklearn.metrics import confusion_matrix\n",
      "\n",
      "bof=bof2\n",
      "vset = KFold(len(label), 100)\n",
      "clf = lda.LDA()\n",
      "pred = []\n",
      "for tr, ts in vset:\n",
      "    clf.fit(bof[tr,:], label[tr])\n",
      "    pred.append(clf.predict(bof[ts,:]))\n",
      "pred = np.concatenate(pred)\n",
      "cm = confusion_matrix(label, pred, labels=[1,-1])\n",
      "print 'accuracy: %0.2f'%((cm[0,0]+cm[1,1])*1./np.sum(cm))"
     ],
     "language": "python",
     "metadata": {},
     "outputs": [
      {
       "output_type": "stream",
       "stream": "stdout",
       "text": [
        "accuracy: 0.74\n"
       ]
      }
     ],
     "prompt_number": 61
    },
    {
     "cell_type": "markdown",
     "metadata": {},
     "source": [
      "## Experimental results\n",
      "\n",
      "- 50 CVPR/ICCV papers for positives\n",
      "- 50 CVPR/ICCV workshop papers for negatives\n",
      "- FDA for classifier\n"
     ]
    },
    {
     "cell_type": "code",
     "collapsed": false,
     "input": [
      "plt.subplot(1,2,1)\n",
      "plt.bar([0,1],[24.5, 59.9])\n",
      "plt.xlim([-.5, 2.5])\n",
      "plt.ylim([0, 70])\n",
      "plt.annotate('Proposed', xy=[0, 30])\n",
      "plt.annotate('Conventional', xy=[1., 62])\n",
      "plt.title('Computation time')\n",
      "plt.subplot(1,2,2)\n",
      "plt.bar([0,1],[0.65, 0.74])\n",
      "plt.xlim([-.5, 2.5])\n",
      "plt.ylim([0, 1])\n",
      "plt.annotate('Proposed', xy=[0, .67])\n",
      "plt.annotate('Conventional', xy=[1., .75])\n",
      "plt.title('Classification accuracy')"
     ],
     "language": "python",
     "metadata": {},
     "outputs": [
      {
       "metadata": {},
       "output_type": "pyout",
       "prompt_number": 70,
       "text": [
        "<matplotlib.text.Text at 0x147606dd0>"
       ]
      },
      {
       "metadata": {},
       "output_type": "display_data",
       "png": "[encoded data removed]",
       "text": [
        "<matplotlib.figure.Figure at 0x146e75550>"
       ]
      }
     ],
     "prompt_number": 70
    },
    {
     "cell_type": "markdown",
     "metadata": {},
     "source": [
      "### Appendix: for NTN papers\n",
      "\n",
      "We also confirmed the improvement of scores from before to accept papters."
     ]
    },
    {
     "cell_type": "code",
     "collapsed": false,
     "input": [
      "img = cv2.resize(cv2.imread('before.png')[:,:,:3], (618, 800))\n",
      "feat = ExtractHog(img).reshape((19, 25, 9))\n",
      "v = CalculateBOF(feat, mu, type=1)[0]\n",
      "acc = clf.predict_log_proba(ss.transform(v))\n",
      "print \"acceptability: %0.2f\"%acc[0][1]"
     ],
     "language": "python",
     "metadata": {},
     "outputs": [
      {
       "output_type": "stream",
       "stream": "stdout",
       "text": [
        "acceptability: -18.00\n"
       ]
      }
     ],
     "prompt_number": 99
    },
    {
     "cell_type": "code",
     "collapsed": false,
     "input": [
      "img = cv2.resize(cv2.imread('after.png')[:,:,:3], (618, 800))\n",
      "feat = ExtractHog(img).reshape((19, 25, 9))\n",
      "v = CalculateBOF(feat, mu, type=1)[0]\n",
      "acc = clf.predict_log_proba(ss.transform(v))\n",
      "print \"acceptability: %0.2f\"%acc[0][1]"
     ],
     "language": "python",
     "metadata": {},
     "outputs": [
      {
       "output_type": "stream",
       "stream": "stdout",
       "text": [
        "acceptability: -17.76\n"
       ]
      }
     ],
     "prompt_number": 101
    }
   ],
   "metadata": {}
  }
 ]
}